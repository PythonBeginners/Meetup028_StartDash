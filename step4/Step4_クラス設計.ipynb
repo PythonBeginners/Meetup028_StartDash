{
 "cells": [
  {
   "cell_type": "markdown",
   "metadata": {
    "slideshow": {
     "slide_type": "slide"
    }
   },
   "source": [
    "# クラス設計"
   ]
  },
  {
   "cell_type": "markdown",
   "metadata": {},
   "source": [
    "Step1, Step2は主に関数やフレームワークを使ってきました。\n",
    "\n",
    "しかし、サービスに組み込むとなったときに、クラス設計を覚えている必要があります。"
   ]
  },
  {
   "cell_type": "markdown",
   "metadata": {},
   "source": [
    "フレームワークもほとんどクラス設計なので、深く理解するためにも避けては通れません。"
   ]
  },
  {
   "cell_type": "markdown",
   "metadata": {
    "slideshow": {
     "slide_type": "slide"
    }
   },
   "source": [
    "## ポケモンで実装しながら説明します。"
   ]
  },
  {
   "cell_type": "markdown",
   "metadata": {},
   "source": [
    "クラスのメリット\n",
    "+ 似たような機能を同じコードから作れる。\n",
    "\n",
    "ピカチュウがイーブイとバトルするのを簡単に作ろうかなと思います。"
   ]
  },
  {
   "cell_type": "markdown",
   "metadata": {
    "slideshow": {
     "slide_type": "slide"
    }
   },
   "source": [
    "### クラスを使わない場合"
   ]
  },
  {
   "cell_type": "code",
   "execution_count": null,
   "metadata": {},
   "outputs": [],
   "source": [
    "ピカチュウ = {}\n",
    "ピカチュウ['name'] = 'ピカチュウ'\n",
    "ピカチュウ['hp'] = 80\n",
    "ピカチュウ['attack'] = 50\n",
    "ピカチュウ['defence'] = 20\n",
    "ピカチュウ['sound'] = 'ﾋﾟｨｶﾞﾁﾞｭｩｩｳｩｳ!!'"
   ]
  },
  {
   "cell_type": "code",
   "execution_count": null,
   "metadata": {},
   "outputs": [],
   "source": [
    "ピカチュウ"
   ]
  },
  {
   "cell_type": "code",
   "execution_count": null,
   "metadata": {
    "slideshow": {
     "slide_type": "subslide"
    }
   },
   "outputs": [],
   "source": [
    "イーブイ = {}\n",
    "イーブイ['name'] = 'イーブイ'\n",
    "イーブイ['hp'] = 150\n",
    "イーブイ['attack'] = 40\n",
    "イーブイ['defence'] = 10\n",
    "イーブイ['sound'] = 'ｲｲｲｲｲｲｲｲﾌﾞｲｲｲｲｲｲｲｲ!!'"
   ]
  },
  {
   "cell_type": "code",
   "execution_count": null,
   "metadata": {
    "slideshow": {
     "slide_type": "slide"
    }
   },
   "outputs": [],
   "source": [
    "# pokemon2が野生で飛び出した設定です。\n",
    "# 問答無用で pokemon1が先行です。\n",
    "def battle(pokemon1, pokemon2):\n",
    "    print(f\"野生の{pokemon2['name']}が飛び出してきた！！\")\n",
    "    print(f\"{pokemon2['sound']}\")\n",
    "    print(f\"いけっ！{pokemon1['name']}！キミにきめたっ！\")\n",
    "    print(f\"{pokemon1['sound']}\")\n",
    "    while pokemon1['hp'] > 0 and pokemon2['hp'] > 0:\n",
    "        damage = pokemon2['defence'] - pokemon1['attack']\n",
    "        print(f\"{pokemon1['name']} の攻撃！{pokemon2['name']}に{damage * -1} のダメージ\")\n",
    "        pokemon2['hp'] += damage\n",
    "        if pokemon2['hp'] <= 0:\n",
    "            print(f\"{pokemon2['name']}は たおれた！\")\n",
    "            break\n",
    "        damage = pokemon1['defence'] - pokemon2['attack']\n",
    "        print(f\"{pokemon2['name']} の攻撃！{pokemon1['name']}に{damage * -1} のダメージ\")\n",
    "        pokemon1['hp'] += damage\n",
    "        if pokemon1['hp'] <= 0:\n",
    "            print(f\"{pokemon1['name']}は たおれた！\")\n",
    "            break\n",
    "#         print(f\"{pokemon1['hp']}\")\n",
    "#         print(f\"{pokemon2['hp']}\")"
   ]
  },
  {
   "cell_type": "code",
   "execution_count": null,
   "metadata": {},
   "outputs": [],
   "source": [
    "battle(ピカチュウ, イーブイ)"
   ]
  },
  {
   "cell_type": "markdown",
   "metadata": {
    "slideshow": {
     "slide_type": "slide"
    }
   },
   "source": [
    "クラス設計をしないで実装するとこんな感じ。\n",
    "\n",
    "別に問題自体はない。\n",
    "\n",
    "しかし、ポケモンを複数データ作るときに\n",
    "\n",
    "```\n",
    "イーブイ = {}\n",
    "イーブイ['name'] = 'イーブイ'\n",
    "イーブイ['hp'] = 150\n",
    "イーブイ['attack'] = 40\n",
    "イーブイ['defence'] = 10\n",
    "イーブイ['sound'] = 'ｲｲｲｲｲｲｲｲﾌﾞｲｲｲｲｲｲｲｲ!!'\n",
    "```\n",
    "こういうコードを何度も書くのはしんどい。"
   ]
  },
  {
   "cell_type": "markdown",
   "metadata": {
    "slideshow": {
     "slide_type": "slide"
    }
   },
   "source": [
    "## 次にクラス設計で同じ実装をしてみます。"
   ]
  },
  {
   "cell_type": "markdown",
   "metadata": {},
   "source": [
    "<img src=\"class.png\">"
   ]
  },
  {
   "cell_type": "code",
   "execution_count": null,
   "metadata": {
    "slideshow": {
     "slide_type": "slide"
    }
   },
   "outputs": [],
   "source": [
    "class Pokemon():\n",
    "    def __init__(self, name :str, hp :int, attack :int, defence :int, sound :str):\n",
    "        self.name :str = name\n",
    "        self.hp :int = hp\n",
    "        self.attack :int = attack\n",
    "        self.defence :int = defence\n",
    "        self.sound :str = sound\n",
    "    \n",
    "    def say(self):\n",
    "        print(f\"{self.sound}\")\n",
    "        \n",
    "    def attack(self, attack):\n",
    "        return self.attack\n",
    "    \n",
    "    def view_status(self):\n",
    "        print(f\"name:{self.name}\")\n",
    "        print(f\"hp:{self.hp}\")\n",
    "        print(f\"attack:{self.attack}\")\n",
    "        print(f\"defence:{self.defence}\")"
   ]
  },
  {
   "cell_type": "code",
   "execution_count": null,
   "metadata": {},
   "outputs": [],
   "source": [
    "poke1 = Pokemon('ピカチュウ', 80, 50, 20, 'ﾋﾟｨｶﾞﾁﾞｭｩｩｳｩｳ!!')\n",
    "poke2 = Pokemon('イーブイ', 150, 40, 10, 'ｲｲｲｲｲｲｲｲﾌﾞｲｲｲｲｲｲｲｲ!!')"
   ]
  },
  {
   "cell_type": "code",
   "execution_count": null,
   "metadata": {
    "slideshow": {
     "slide_type": "subslide"
    }
   },
   "outputs": [],
   "source": [
    "poke1.say()"
   ]
  },
  {
   "cell_type": "code",
   "execution_count": null,
   "metadata": {
    "slideshow": {
     "slide_type": "slide"
    }
   },
   "outputs": [],
   "source": [
    "class Battle():\n",
    "    def __init__(self, pokemon1 :Pokemon, pokemon2 :Pokemon):\n",
    "        self.pokemon1 = pokemon1\n",
    "        self.pokemon2 = pokemon2\n",
    "#         pass\n",
    "    def __call__(self, pokemon1 :Pokemon, pokemon2 :Pokemon):\n",
    "        self.pokemon1 = pokemon1\n",
    "        self.pokemon2 = pokemon2\n",
    "    \n",
    "    def battle(self):\n",
    "        print(f\"野生の{self.pokemon2.name}が飛び出してきた！！\")\n",
    "        self.pokemon2.say()\n",
    "        print(f\"いけっ！{self.pokemon1.name}！キミにきめたっ！\")\n",
    "        self.pokemon1.say()\n",
    "        while True:\n",
    "            self.calc_damage(self.pokemon1, self.pokemon2)\n",
    "            if self.pokemon2.hp <= 0:\n",
    "                print(f\"{self.pokemon2.name}は たおれた！\")\n",
    "                break\n",
    "            self.calc_damage(self.pokemon2, self.pokemon1)\n",
    "            if self.pokemon1.hp <= 0:\n",
    "                print(f\"{self.pokemon1.name}は たおれた！\")\n",
    "                break\n",
    "                \n",
    "            \n",
    "    def calc_damage(self, offence_poke, defence_poke):\n",
    "        damage = defence_poke.defence - offence_poke.attack\n",
    "        print(f\"{offence_poke.name} の攻撃！{defence_poke.name}に{damage * -1} のダメージ\")\n",
    "        defence_poke.hp += damage\n",
    "#             break"
   ]
  },
  {
   "cell_type": "code",
   "execution_count": null,
   "metadata": {},
   "outputs": [],
   "source": [
    "Battle(poke1, poke2).battle()"
   ]
  },
  {
   "cell_type": "markdown",
   "metadata": {
    "slideshow": {
     "slide_type": "slide"
    }
   },
   "source": [
    "何が便利なの？？\n",
    "\n",
    "クラスを見ればどんな機能があるのかわかりやすい。\n",
    "\n",
    "また、継承もできるので、個体値によってStatusを変えるという仕様の追加や変更にコード変更少なめで対処できる。\n",
    "\n",
    "これでも結構雑な実装ですmm(お許しください)"
   ]
  },
  {
   "cell_type": "markdown",
   "metadata": {
    "slideshow": {
     "slide_type": "slide"
    }
   },
   "source": [
    "## 演習\n",
    "あなたのピカチュウが傷ついています。\n",
    "回復するメソッドを加えて回復させてあげましょう。"
   ]
  },
  {
   "cell_type": "code",
   "execution_count": null,
   "metadata": {},
   "outputs": [],
   "source": [
    "poke1.view_status()"
   ]
  },
  {
   "cell_type": "code",
   "execution_count": null,
   "metadata": {
    "slideshow": {
     "slide_type": "slide"
    }
   },
   "outputs": [],
   "source": [
    "## Pokemon クラスを変更\n",
    "\n",
    "class Pokemon():\n",
    "    def __init__(self, name :str, hp :int, attack :int, defence :int, sound :str):\n",
    "        self.name :str = name\n",
    "        self.hp :int = hp\n",
    "        self.attack :int = attack\n",
    "        self.defence :int = defence\n",
    "        self.sound :str = sound\n",
    "    \n",
    "    def say(self):\n",
    "        print(f\"{self.sound}\")\n",
    "        \n",
    "    def attack(self, attack):\n",
    "        return self.attack\n",
    "    \n",
    "    def view_status(self):\n",
    "        print(f\"name:{self.name}\")\n",
    "        print(f\"hp:{self.hp}\")\n",
    "        print(f\"attack:{self.attack}\")\n",
    "        print(f\"defence:{self.defence}\")"
   ]
  },
  {
   "cell_type": "markdown",
   "metadata": {},
   "source": [
    "回復以外にも攻撃力を複雑な実装。\n",
    "\n",
    "個体値の実装。\n",
    "\n",
    "技の実装。\n",
    "\n",
    "素早さの実装\n",
    "\n",
    "回避率の実装...etc\n",
    "\n",
    "た～くさん残ってます。\n",
    "\n",
    "ポケモンのバトルを再現するだけでも大変なんだな〜ってわかったかなと...\n",
    "\n",
    "やりたい方はどうぞ(笑"
   ]
  },
  {
   "cell_type": "markdown",
   "metadata": {},
   "source": [
    "### クラス化したものを呼び出す処理\n",
    "フレームワークのように`import`できます\n",
    "\n",
    "あらかじめ`pokemon`ディレクトリを作ってそこにクラスを書き込んでおきました。\n",
    "\n",
    "そうすると、以下のように `import` できます"
   ]
  },
  {
   "cell_type": "code",
   "execution_count": null,
   "metadata": {},
   "outputs": [],
   "source": [
    "from pokemon import Pokemon"
   ]
  },
  {
   "cell_type": "code",
   "execution_count": null,
   "metadata": {},
   "outputs": [],
   "source": [
    "poke1 = Pokemon('ピカチュウ', 80, 50, 20, 'ﾋﾟｨｶﾞﾁﾞｭｩｩｳｩｳ!!')\n",
    "poke2 = Pokemon('イーブイ', 150, 40, 10, 'ｲｲｲｲｲｲｲｲﾌﾞｲｲｲｲｲｲｲｲ!!')"
   ]
  },
  {
   "cell_type": "code",
   "execution_count": null,
   "metadata": {},
   "outputs": [],
   "source": [
    "poke1.say()"
   ]
  },
  {
   "cell_type": "markdown",
   "metadata": {},
   "source": [
    "## 実際のフレームワークもこんな感じで書かれています。\n",
    "\n",
    "https://github.com/jupyter/notebook\n",
    "\n",
    "見て学ぶこともできますし、慣れてきたらフレームワークを作る側にも回れます。\n"
   ]
  },
  {
   "cell_type": "markdown",
   "metadata": {},
   "source": [
    "## クラスを理解しようとする場合。\n",
    "\n",
    "+ Webアプリケーションを1から作ってみる。\n",
    "+ Githubのソースコードを読む\n",
    "+ フレームワークを拡張する"
   ]
  },
  {
   "cell_type": "code",
   "execution_count": null,
   "metadata": {},
   "outputs": [],
   "source": []
  }
 ],
 "metadata": {
  "celltoolbar": "Slideshow",
  "kernelspec": {
   "display_name": "Python 3",
   "language": "python",
   "name": "python3"
  },
  "language_info": {
   "codemirror_mode": {
    "name": "ipython",
    "version": 3
   },
   "file_extension": ".py",
   "mimetype": "text/x-python",
   "name": "python",
   "nbconvert_exporter": "python",
   "pygments_lexer": "ipython3",
   "version": "3.6.4"
  }
 },
 "nbformat": 4,
 "nbformat_minor": 2
}
