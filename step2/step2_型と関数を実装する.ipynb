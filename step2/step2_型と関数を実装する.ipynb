{
 "cells": [
  {
   "cell_type": "markdown",
   "metadata": {
    "slideshow": {
     "slide_type": "slide"
    }
   },
   "source": [
    "# PythonBeginners Okinawa 22\n",
    "\n",
    "# Step2  # Pythonを型と関数を用いて書いてみよう！\n",
    "\n",
    "# はーじまーるよー！"
   ]
  },
  {
   "cell_type": "markdown",
   "metadata": {
    "slideshow": {
     "slide_type": "slide"
    }
   },
   "source": [
    "# アジェンダ\n",
    "+ 変数内の型の話\n",
    "    + Integer\n",
    "    + String\n",
    "    + List\n",
    "    + Dict型 (Dictionary)\n",
    "    + その他 豆知識\n",
    "+ 関数\n",
    "    + if文 for文\n",
    "    + デフォルトで用意されている関数\n",
    "    + 誰かが作った関数\n",
    "    + 自分で作った関数"
   ]
  },
  {
   "cell_type": "markdown",
   "metadata": {
    "slideshow": {
     "slide_type": "slide"
    }
   },
   "source": [
    "プログラミングでは、変数というものを基本的に用います。\n",
    "\n",
    "とりあえず、型を理解する上で様々な変数をみてみる"
   ]
  },
  {
   "cell_type": "code",
   "execution_count": 40,
   "metadata": {},
   "outputs": [],
   "source": [
    "a = 1\n",
    "b = 'こんにち'\n",
    "c = [1, 2, 3, 4, 5]\n",
    "d = {'夜': 'こんばんは', '朝': 'おはよう'}"
   ]
  },
  {
   "cell_type": "markdown",
   "metadata": {},
   "source": [
    "出力するために`print()`を使います。\n",
    "print()は文字列や整数を出力したり、変数を出力したりすることができます。"
   ]
  },
  {
   "cell_type": "code",
   "execution_count": 44,
   "metadata": {},
   "outputs": [
    {
     "name": "stdout",
     "output_type": "stream",
     "text": [
      "1\n",
      "こんにち\n",
      "[1, 2, 3, 4, 5]\n",
      "{'夜': 'こんばんは', '朝': 'おはよう'}\n"
     ]
    }
   ],
   "source": [
    "print(a) \n",
    "print(b) \n",
    "print(c) \n",
    "print(d) "
   ]
  },
  {
   "cell_type": "markdown",
   "metadata": {
    "slideshow": {
     "slide_type": "subslide"
    }
   },
   "source": [
    "文字列を出力すると"
   ]
  },
  {
   "cell_type": "code",
   "execution_count": 39,
   "metadata": {},
   "outputs": [
    {
     "name": "stdout",
     "output_type": "stream",
     "text": [
      "プログラミングとかwwwウケルwwwww\n",
      "4649\n",
      "4649\n"
     ]
    }
   ],
   "source": [
    "print('プログラミングとかwwwウケルwwwww')\n",
    "print('4649')\n",
    "print(4649)"
   ]
  },
  {
   "cell_type": "markdown",
   "metadata": {
    "slideshow": {
     "slide_type": "slide"
    }
   },
   "source": [
    "出力できましたね。\n",
    "今度はそれぞれで足し算をしてみましょう"
   ]
  },
  {
   "cell_type": "code",
   "execution_count": 9,
   "metadata": {
    "slideshow": {
     "slide_type": "subslide"
    }
   },
   "outputs": [],
   "source": [
    "a = 1\n",
    "b = 'こんにち'\n",
    "c = [1, 2, 3, 4, 5]\n",
    "d = {'夜': 'こんばんは', '朝': 'おはよう'}"
   ]
  },
  {
   "cell_type": "code",
   "execution_count": 10,
   "metadata": {},
   "outputs": [
    {
     "name": "stdout",
     "output_type": "stream",
     "text": [
      "2\n",
      "こんにちこんにち\n",
      "[1, 2, 3, 4, 5, 1, 2, 3, 4, 5]\n"
     ]
    },
    {
     "ename": "TypeError",
     "evalue": "unsupported operand type(s) for +: 'dict' and 'dict'",
     "output_type": "error",
     "traceback": [
      "\u001b[0;31m---------------------------------------------------------------------------\u001b[0m",
      "\u001b[0;31mTypeError\u001b[0m                                 Traceback (most recent call last)",
      "\u001b[0;32m<ipython-input-10-afe103c1e4c1>\u001b[0m in \u001b[0;36m<module>\u001b[0;34m()\u001b[0m\n\u001b[1;32m      2\u001b[0m \u001b[0mprint\u001b[0m\u001b[0;34m(\u001b[0m\u001b[0mb\u001b[0m \u001b[0;34m+\u001b[0m \u001b[0mb\u001b[0m\u001b[0;34m)\u001b[0m \u001b[0;31m#\u001b[0m\u001b[0;34m\u001b[0m\u001b[0m\n\u001b[1;32m      3\u001b[0m \u001b[0mprint\u001b[0m\u001b[0;34m(\u001b[0m\u001b[0mc\u001b[0m \u001b[0;34m+\u001b[0m \u001b[0mc\u001b[0m\u001b[0;34m)\u001b[0m\u001b[0;34m\u001b[0m\u001b[0m\n\u001b[0;32m----> 4\u001b[0;31m \u001b[0mprint\u001b[0m\u001b[0;34m(\u001b[0m\u001b[0md\u001b[0m \u001b[0;34m+\u001b[0m \u001b[0md\u001b[0m\u001b[0;34m)\u001b[0m\u001b[0;34m\u001b[0m\u001b[0m\n\u001b[0m",
      "\u001b[0;31mTypeError\u001b[0m: unsupported operand type(s) for +: 'dict' and 'dict'"
     ]
    }
   ],
   "source": [
    "print(a + a) # 1 + 1\n",
    "print(b + b) #\n",
    "print(c + c) \n",
    "print(d + d) "
   ]
  },
  {
   "cell_type": "markdown",
   "metadata": {
    "slideshow": {
     "slide_type": "slide"
    }
   },
   "source": [
    "足し算がうまくいきませんでした。\n",
    "\n",
    "原因はもちろん変数の中身が違うからです。よりわかりやすく変数を宣言してみると"
   ]
  },
  {
   "cell_type": "code",
   "execution_count": 27,
   "metadata": {},
   "outputs": [],
   "source": [
    "a :int = 1\n",
    "b :str = 'こんにち'\n",
    "c :list = [1, 2, 3, 4, 5]\n",
    "d :dict = {'夜': 'こんばんは', '朝': 'おはよう'}"
   ]
  },
  {
   "cell_type": "raw",
   "metadata": {
    "slideshow": {
     "slide_type": "slide"
    }
   },
   "source": [
    "順序良く解説していきます。"
   ]
  },
  {
   "cell_type": "markdown",
   "metadata": {
    "slideshow": {
     "slide_type": "subslide"
    }
   },
   "source": [
    "`int` はIntegerで整数での型です。\n",
    "\n",
    "基本的な四則演算やあまりを求めたりなどの計算に使います。"
   ]
  },
  {
   "cell_type": "code",
   "execution_count": 21,
   "metadata": {},
   "outputs": [],
   "source": [
    "a :int = 4"
   ]
  },
  {
   "cell_type": "code",
   "execution_count": 23,
   "metadata": {},
   "outputs": [
    {
     "name": "stdout",
     "output_type": "stream",
     "text": [
      "6\n",
      "2\n",
      "8\n",
      "2.0\n",
      "0\n"
     ]
    }
   ],
   "source": [
    "print(a + 2)    # aに2を足す\n",
    "print(a - 2)    # aに2を引く\n",
    "print(a * 2)    # aに2をかける\n",
    "print(a / 2)    # aを2で割る\n",
    "print(a % 2)    # aを2で割ったときの余りを求める"
   ]
  },
  {
   "cell_type": "markdown",
   "metadata": {
    "slideshow": {
     "slide_type": "subslide"
    }
   },
   "source": [
    "ここまでで質問があったり\n",
    "記号の打ち方とかわからない人いますか〜？"
   ]
  },
  {
   "cell_type": "markdown",
   "metadata": {
    "slideshow": {
     "slide_type": "slide"
    }
   },
   "source": [
    "次、`str` String の略で文字列を意味します\n",
    "\n",
    "足し算すると結合できたり、シーケンス型と呼ばれてて順序に意味があります。"
   ]
  },
  {
   "cell_type": "code",
   "execution_count": 31,
   "metadata": {},
   "outputs": [
    {
     "name": "stdout",
     "output_type": "stream",
     "text": [
      "こんにちは\n",
      "に\n"
     ]
    }
   ],
   "source": [
    "b :str = 'こんにち'\n",
    "b2: str = 'は'\n",
    "print(b + b2)\n",
    "print(b[2]) # 0から3までに `こんにち`が格納されてる。"
   ]
  },
  {
   "cell_type": "markdown",
   "metadata": {
    "slideshow": {
     "slide_type": "subslide"
    }
   },
   "source": [
    "ここまでOK?"
   ]
  },
  {
   "cell_type": "code",
   "execution_count": null,
   "metadata": {
    "slideshow": {
     "slide_type": "slide"
    }
   },
   "outputs": [],
   "source": [
    "基本的に文字列を出力するのが多いので豆知識として覚えておいて欲しい。\n",
    "`f-string`構文"
   ]
  },
  {
   "cell_type": "code",
   "execution_count": 46,
   "metadata": {},
   "outputs": [
    {
     "name": "stdout",
     "output_type": "stream",
     "text": [
      "a の値は1\n",
      "a の値は1\n"
     ]
    }
   ],
   "source": [
    "print('a の値は{}'.format(a))  # 昔の書き方\n",
    "print(f'a の値は{a}')  #ナウいヤングの書き方"
   ]
  },
  {
   "cell_type": "markdown",
   "metadata": {},
   "source": [
    "`List` は `[0, 1, 2]`のように記述され。"
   ]
  },
  {
   "cell_type": "code",
   "execution_count": 48,
   "metadata": {},
   "outputs": [
    {
     "name": "stdout",
     "output_type": "stream",
     "text": [
      "こ\n",
      "ん\n",
      "に\n",
      "ち\n"
     ]
    }
   ],
   "source": [
    "for i in b:\n",
    "    print(i)"
   ]
  },
  {
   "cell_type": "code",
   "execution_count": 6,
   "metadata": {},
   "outputs": [
    {
     "name": "stdout",
     "output_type": "stream",
     "text": [
      "Hello World!!\n"
     ]
    }
   ],
   "source": [
    "great :str = \"Hello World!!\"\n",
    "print(great)"
   ]
  },
  {
   "cell_type": "code",
   "execution_count": 7,
   "metadata": {},
   "outputs": [],
   "source": [
    "a = ['空い']"
   ]
  }
 ],
 "metadata": {
  "celltoolbar": "Slideshow",
  "kernelspec": {
   "display_name": "Python 3",
   "language": "python",
   "name": "python3"
  },
  "language_info": {
   "codemirror_mode": {
    "name": "ipython",
    "version": 3
   },
   "file_extension": ".py",
   "mimetype": "text/x-python",
   "name": "python",
   "nbconvert_exporter": "python",
   "pygments_lexer": "ipython3",
   "version": "3.6.4"
  }
 },
 "nbformat": 4,
 "nbformat_minor": 2
}
